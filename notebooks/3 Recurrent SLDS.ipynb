{
 "cells": [
  {
   "cell_type": "markdown",
   "metadata": {},
   "source": [
    "# Simple example of a recurrent SLDS"
   ]
  },
  {
   "cell_type": "code",
   "execution_count": 1,
   "metadata": {},
   "outputs": [],
   "source": [
    "import os\n",
    "import pickle\n",
    "\n",
    "import autograd.numpy as np\n",
    "import autograd.numpy.random as npr\n",
    "npr.seed(12345)\n",
    "\n",
    "import matplotlib.pyplot as plt\n",
    "%matplotlib inline\n",
    "\n",
    "import seaborn as sns\n",
    "color_names = [\"windows blue\", \"red\", \"amber\", \"faded green\"]\n",
    "colors = sns.xkcd_palette(color_names)\n",
    "sns.set_style(\"white\")\n",
    "sns.set_context(\"talk\")\n",
    "\n",
    "from ssm.models import SLDS\n",
    "from ssm.util import random_rotation"
   ]
  },
  {
   "cell_type": "code",
   "execution_count": 2,
   "metadata": {},
   "outputs": [],
   "source": [
    "# Global parameters\n",
    "T = 10000\n",
    "K = 4\n",
    "D_obs = 10\n",
    "D_latent = 2"
   ]
  },
  {
   "cell_type": "code",
   "execution_count": 3,
   "metadata": {},
   "outputs": [],
   "source": [
    "# Simulate the \"nascar\" data\n",
    "def make_nascar_model():\n",
    "    As = [random_rotation(D_latent, np.pi/24.),\n",
    "      random_rotation(D_latent, np.pi/48.)]\n",
    "\n",
    "    # Set the center points for each system\n",
    "    centers = [np.array([+2.0, 0.]),\n",
    "           np.array([-2.0, 0.])]\n",
    "    bs = [-(A - np.eye(D_latent)).dot(center) for A, center in zip(As, centers)]\n",
    "\n",
    "    # Add a \"right\" state\n",
    "    As.append(np.eye(D_latent))\n",
    "    bs.append(np.array([+0.1, 0.]))\n",
    "\n",
    "    # Add a \"right\" state\n",
    "    As.append(np.eye(D_latent))\n",
    "    bs.append(np.array([-0.25, 0.]))\n",
    "\n",
    "    # Construct multinomial regression to divvy up the space\n",
    "    w1, b1 = np.array([+1.0, 0.0]), np.array([-2.0])   # x + b > 0 -> x > -b\n",
    "    w2, b2 = np.array([-1.0, 0.0]), np.array([-2.0])   # -x + b > 0 -> x < b\n",
    "    w3, b3 = np.array([0.0, +1.0]), np.array([0.0])    # y > 0\n",
    "    w4, b4 = np.array([0.0, -1.0]), np.array([0.0])    # y < 0\n",
    "    Rs = np.row_stack((100*w1, 100*w2, 10*w3,10*w4))\n",
    "    r = np.concatenate((100*b1, 100*b2, 10*b3, 10*b4))\n",
    "    \n",
    "    true_rslds = SLDS(D_obs, K, D_latent, \n",
    "                      transitions=\"recurrent_only\",\n",
    "                      dynamics=\"gaussian\",\n",
    "                      emissions=\"gaussian\",\n",
    "                      single_subspace=True)\n",
    "    true_rslds.dynamics.mu_init = np.array([0, 1])\n",
    "    true_rslds.dynamics.inv_sigma_init = np.log(1e-4) * np.ones(2)\n",
    "    true_rslds.dynamics.As = np.array(As)\n",
    "    true_rslds.dynamics.bs = np.array(bs)\n",
    "    true_rslds.dynamics.inv_sigmas = np.log(1e-4) * np.ones((K, D_latent))\n",
    "    \n",
    "    true_rslds.transitions.Rs = Rs\n",
    "    true_rslds.transitions.r = r\n",
    "    \n",
    "    true_rslds.emissions.inv_etas = np.log(1e-2) * np.ones((1, D_obs))\n",
    "    return true_rslds\n",
    "\n",
    "# Sample from the model\n",
    "true_rslds = make_nascar_model()\n",
    "z, x, y = true_rslds.sample(T=T)"
   ]
  },
  {
   "cell_type": "code",
   "execution_count": null,
   "metadata": {},
   "outputs": [
    {
     "name": "stdout",
     "output_type": "stream",
     "text": [
      "Initializing with an ARHMM using 25 steps of EM.\n",
      "Done\n",
      "Iteration 0.  ELBO: 61736.9\n",
      "Iteration 25.  ELBO: 64720.4\n",
      "Iteration 50.  ELBO: 66149.5\n",
      "Iteration 75.  ELBO: 67761.0\n",
      "Iteration 100.  ELBO: 68491.5\n",
      "Iteration 125.  ELBO: 69426.1\n",
      "Iteration 150.  ELBO: 69845.8\n",
      "Iteration 175.  ELBO: 70576.2\n",
      "Iteration 200.  ELBO: 70654.6\n",
      "Iteration 225.  ELBO: 71147.7\n",
      "Iteration 250.  ELBO: 71595.0\n",
      "Iteration 275.  ELBO: 71815.3\n",
      "Iteration 300.  ELBO: 71959.1\n",
      "Iteration 325.  ELBO: 71942.5\n",
      "Iteration 350.  ELBO: 71885.0\n",
      "Iteration 375.  ELBO: 71878.4\n",
      "Iteration 400.  ELBO: 72403.1\n",
      "Iteration 425.  ELBO: 72490.5\n",
      "Iteration 450.  ELBO: 72814.4\n",
      "Iteration 475.  ELBO: 72855.0\n",
      "Iteration 500.  ELBO: 72981.8\n",
      "Iteration 525.  ELBO: 73127.1\n",
      "Iteration 550.  ELBO: 73088.6\n",
      "Iteration 575.  ELBO: 73442.8\n",
      "Iteration 600.  ELBO: 73245.8\n"
     ]
    }
   ],
   "source": [
    "# Fit a robust rSLDS with its default initialization\n",
    "rslds = SLDS(D_obs, K, D_latent, \n",
    "             transitions=\"recurrent_only\",\n",
    "             dynamics=\"gaussian\",\n",
    "             emissions=\"gaussian\",\n",
    "             single_subspace=True)\n",
    "elbos, (xhat, xvar) = rslds.fit(y, num_iters=1000, print_intvl=25)\n",
    "zhat = rslds.most_likely_states(xhat, y)"
   ]
  },
  {
   "cell_type": "code",
   "execution_count": null,
   "metadata": {},
   "outputs": [],
   "source": [
    "# Plot some results\n",
    "plt.figure()\n",
    "plt.plot(elbos)\n",
    "plt.xlabel(\"Iteration\")\n",
    "plt.ylabel(\"ELBO\")"
   ]
  },
  {
   "cell_type": "code",
   "execution_count": null,
   "metadata": {},
   "outputs": [],
   "source": [
    "# Helper functions for plotting results\n",
    "def plot_trajectory(z, x, ax=None, ls=\"-\"):\n",
    "    zcps = np.concatenate(([0], np.where(np.diff(z))[0] + 1, [z.size]))\n",
    "    if ax is None:\n",
    "        fig = plt.figure(figsize=(4, 4))\n",
    "        ax = fig.gca()\n",
    "    for start, stop in zip(zcps[:-1], zcps[1:]):\n",
    "        ax.plot(x[start:stop + 1, 0],\n",
    "                x[start:stop + 1, 1],\n",
    "                lw=1, ls=ls,\n",
    "                color=colors[z[start] % len(colors)],\n",
    "                alpha=1.0)\n",
    "\n",
    "    return ax\n",
    "\n",
    "\n",
    "def plot_most_likely_dynamics(model,\n",
    "    xlim=(-4, 4), ylim=(-3, 3), nxpts=20, nypts=20,\n",
    "    alpha=0.8, ax=None, figsize=(3, 3)):\n",
    "    \n",
    "    K = model.K\n",
    "    assert model.D == 2\n",
    "    x = np.linspace(*xlim, nxpts)\n",
    "    y = np.linspace(*ylim, nypts)\n",
    "    X, Y = np.meshgrid(x, y)\n",
    "    xy = np.column_stack((X.ravel(), Y.ravel()))\n",
    "\n",
    "    # Get the probability of each state at each xy location\n",
    "    z = np.argmax(xy.dot(model.transitions.Rs.T) + model.transitions.r, axis=1)\n",
    "\n",
    "    if ax is None:\n",
    "        fig = plt.figure(figsize=figsize)\n",
    "        ax = fig.add_subplot(111)\n",
    "\n",
    "    for k, (A, b) in enumerate(zip(model.dynamics.As, model.dynamics.bs)):\n",
    "        dxydt_m = xy.dot(A.T) + b - xy\n",
    "\n",
    "        zk = z == k\n",
    "        if zk.sum(0) > 0:\n",
    "            ax.quiver(xy[zk, 0], xy[zk, 1],\n",
    "                      dxydt_m[zk, 0], dxydt_m[zk, 1],\n",
    "                      color=colors[k % len(colors)], alpha=alpha)\n",
    "\n",
    "    ax.set_xlabel('$x_1$')\n",
    "    ax.set_ylabel('$x_2$')\n",
    "\n",
    "    plt.tight_layout()\n",
    "\n",
    "    return ax"
   ]
  },
  {
   "cell_type": "code",
   "execution_count": null,
   "metadata": {},
   "outputs": [],
   "source": [
    "plt.figure(figsize=(8,4))\n",
    "ax1 = plt.subplot(121)\n",
    "plot_trajectory(z, x, ax=ax1)\n",
    "plt.title(\"True\")\n",
    "ax2 = plt.subplot(122)\n",
    "plot_trajectory(zhat, xhat, ax=ax2)\n",
    "plt.title(\"Inferred\")"
   ]
  },
  {
   "cell_type": "code",
   "execution_count": null,
   "metadata": {},
   "outputs": [],
   "source": [
    "plt.figure(figsize=(6,4))\n",
    "ax = plt.subplot(111)\n",
    "lim = abs(x).max(axis=0) + 1\n",
    "plot_most_likely_dynamics(true_rslds, xlim=(-lim[0], lim[0]), ylim=(-lim[1], lim[1]), ax=ax)\n",
    "plt.title(\"True Dynamics\")\n",
    "\n",
    "plt.figure(figsize=(6,4))\n",
    "ax = plt.subplot(111)\n",
    "lim = abs(xhat).max(axis=0) + 1\n",
    "plot_most_likely_dynamics(rslds, xlim=(-lim[0], lim[0]), ylim=(-lim[1], lim[1]), ax=ax)\n",
    "plt.title(\"Inferred Dynamics\")"
   ]
  }
 ],
 "metadata": {
  "kernelspec": {
   "display_name": "Python 3",
   "language": "python",
   "name": "python3"
  },
  "language_info": {
   "codemirror_mode": {
    "name": "ipython",
    "version": 3
   },
   "file_extension": ".py",
   "mimetype": "text/x-python",
   "name": "python",
   "nbconvert_exporter": "python",
   "pygments_lexer": "ipython3",
   "version": "3.6.3"
  }
 },
 "nbformat": 4,
 "nbformat_minor": 2
}
